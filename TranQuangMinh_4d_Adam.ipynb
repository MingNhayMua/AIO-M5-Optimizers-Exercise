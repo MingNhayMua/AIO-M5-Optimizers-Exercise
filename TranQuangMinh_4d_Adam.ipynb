{
 "cells": [
  {
   "cell_type": "markdown",
   "metadata": {
    "id": "PDZxOtCZt5VU"
   },
   "source": [
    "## Problem"
   ]
  },
  {
   "cell_type": "markdown",
   "metadata": {
    "id": "Z7esFCIXuNXS"
   },
   "source": [
    "$$f(w_1, w_2) = 0.1w_1^2 + 2w_2^2 \\;\\;\\;\\;\\;\\;\\;(1)$$"
   ]
  },
  {
   "cell_type": "code",
   "execution_count": 16,
   "metadata": {
    "id": "_IAVg99F9N0y"
   },
   "outputs": [],
   "source": [
    "import numpy as np"
   ]
  },
  {
   "cell_type": "markdown",
   "metadata": {
    "id": "77XQZxMK2l4x"
   },
   "source": [
    "### Adam"
   ]
  },
  {
   "cell_type": "code",
   "execution_count": 17,
   "metadata": {
    "id": "uai1hzbWuNaK"
   },
   "outputs": [],
   "source": [
    "def df_w(w):\n",
    "    \"\"\"\n",
    "    Thực hiện tính gradient của dw1 và dw2\n",
    "    Arguments:\n",
    "    W -- np.array [w1, w2]\n",
    "    Returns:\n",
    "    dW -- np.array [dw1, dw2], array chứa giá trị đạo hàm theo w1 và w2\n",
    "    \"\"\"\n",
    "    #################### YOUR CODE HERE ####################\n",
    "\n",
    "\n",
    "    dW = np.array([0.2*w[0] , 4*w[1]])\n",
    "    ########################################################\n",
    "\n",
    "    return dW"
   ]
  },
  {
   "cell_type": "code",
   "execution_count": 21,
   "metadata": {
    "id": "d9HnD57lC1X1"
   },
   "outputs": [],
   "source": [
    "def Adam(W, dW, lr, V, S, beta1, beta2, t):\n",
    "    \"\"\"\n",
    "    Thực hiện thuật tóan Adam để update w1 và w2\n",
    "    Arguments:\n",
    "    W -- np.array: [w1, w2]\n",
    "    dW -- np.array: [dw1, dw2], array chứa giá trị đạo hàm theo w1 và w2\n",
    "    lr -- float: learning rate\n",
    "    V -- np.array: [v1, v2] Exponentially weighted averages gradients\n",
    "    S -- np.array: [s1, s2] Exponentially weighted averages bình phương gradients\n",
    "    beta1 -- float: hệ số long-range average cho V\n",
    "    beta2 -- float: hệ số long-range average cho S\n",
    "    t -- int: lần thứ t update (bắt đầu bằng 1)\n",
    "    Returns:\n",
    "    W -- np.array: [w1, w2] w1 và w2 sau khi đã update\n",
    "    V -- np.array: [v1, v2] Exponentially weighted averages gradients sau khi đã cập nhật\n",
    "    S -- np.array: [s1, s2] Exponentially weighted averages bình phương gradients sau khi đã cập nhật\n",
    "    \"\"\"\n",
    "    epsilon = 1e-6\n",
    "    #################### YOUR CODE HERE ####################\n",
    "    V = beta1 * V + (1 - beta1) * dW\n",
    "    \n",
    "    S = beta2 * S + (1 - beta2) * (dW ** 2)\n",
    "    \n",
    "    V_hat = V / (1 - beta1 ** t)\n",
    "    S_hat = S / (1 - beta2 ** t)\n",
    "    \n",
    "    W = W - lr * V_hat / (np.sqrt(S_hat) + epsilon)\n",
    "    \n",
    "    ########################################################\n",
    "    return W, V, S"
   ]
  },
  {
   "cell_type": "code",
   "execution_count": 26,
   "metadata": {
    "id": "DSux416mEjYy"
   },
   "outputs": [],
   "source": [
    "def train_p1(optimizer, lr, epochs):\n",
    "    \"\"\"\n",
    "    Thực hiện tìm điểm minimum của function (1) dựa vào thuật toán\n",
    "    được truyền vào từ optimizer\n",
    "    Arguments:\n",
    "    optimize : function thực hiện thuật toán optimization cụ thể\n",
    "    lr -- float: learning rate\n",
    "    epochs -- int: số lượng lần (epoch) lặp để tìm điểm minimum\n",
    "    Returns:\n",
    "    results -- list: list các cặp điểm [w1, w2] sau mỗi epoch (mỗi lần cập nhật)\n",
    "    \"\"\"\n",
    "    # initial\n",
    "    W = np.array([-5, -2], dtype=np.float32)\n",
    "    V = np.array([0, 0], dtype=np.float32)\n",
    "    S = np.array([0, 0], dtype=np.float32)\n",
    "    results = [W]\n",
    "    #################### YOUR CODE HERE ####################\n",
    "    # Tạo vòng lặp theo số lần epochs\n",
    "    # tìm gradient dW gồm dw1 và dw2\n",
    "    # dùng thuật toán optimization cập nhật w1, w2, s1, s2, v1, v2\n",
    "    # append cặp [w1, w2] vào list results\n",
    "    # các bạn lưu ý mỗi lần lặp nhớ lấy t (lần thứ t lặp) và t bất đầu bằng 1\n",
    "    for i in range(1,epochs+1):\n",
    "        dW = df_w(W)\n",
    "        W,V,S = optimizer(W, dW, lr, V, S, 0.9, 0.999, i)\n",
    "        results.append(W)\n",
    "    ########################################################\n",
    "    return results"
   ]
  },
  {
   "cell_type": "code",
   "execution_count": 29,
   "metadata": {
    "id": "uwBvH3HeEjUL"
   },
   "outputs": [
    {
     "data": {
      "text/plain": [
       "[array([-5., -2.], dtype=float32),\n",
       " array([-4.8000002 , -1.80000002]),\n",
       " array([-4.60025478, -1.60082451]),\n",
       " array([-4.40094848, -1.40317262]),\n",
       " array([-4.20227764, -1.20787822]),\n",
       " array([-4.00445033, -1.01592745]),\n",
       " array([-3.80768638, -0.82847307]),\n",
       " array([-3.61221732, -0.64684159]),\n",
       " array([-3.41828623, -0.47252765]),\n",
       " array([-3.22614739, -0.30716934]),\n",
       " array([-3.03606592, -0.15249855]),\n",
       " array([-2.84831706, -0.01026326]),\n",
       " array([-2.66318543,  0.11787552]),\n",
       " array([-2.480964  ,  0.23046161]),\n",
       " array([-2.30195279,  0.3263587 ]),\n",
       " array([-2.12645742,  0.40484195]),\n",
       " array([-1.95478732,  0.46564961]),\n",
       " array([-1.7872537 ,  0.50898799]),\n",
       " array([-1.62416726,  0.53549442]),\n",
       " array([-1.46583566,  0.54617144]),\n",
       " array([-1.31256067,  0.54230812]),\n",
       " array([-1.16463526,  0.52540206]),\n",
       " array([-1.02234036,  0.4970906 ]),\n",
       " array([-0.88594163,  0.4590951 ]),\n",
       " array([-0.75568617,  0.41317781]),\n",
       " array([-0.63179919,  0.3611089 ]),\n",
       " array([-0.51448089,  0.30464048]),\n",
       " array([-0.40390346,  0.24548409]),\n",
       " array([-0.30020842,  0.18528918]),\n",
       " array([-0.20350426,  0.12562074]),\n",
       " array([-0.11386457,  0.06793529])]"
      ]
     },
     "execution_count": 29,
     "metadata": {},
     "output_type": "execute_result"
    }
   ],
   "source": [
    "results = train_p1(Adam, lr=0.2, epochs=30)\n",
    "results"
   ]
  },
  {
   "cell_type": "code",
   "execution_count": 30,
   "metadata": {},
   "outputs": [
    {
     "data": {
      "image/png": "[encoded data removed]",
      "text/plain": [
       "<Figure size 800x600 with 1 Axes>"
      ]
     },
     "metadata": {},
     "output_type": "display_data"
    }
   ],
   "source": [
    "import numpy as np\n",
    "import matplotlib.pyplot as plt\n",
    "\n",
    "def plot_optimization_path(results):\n",
    "    \"\"\"\n",
    "    Plot the optimization path showing how the weights change during training.\n",
    "    \n",
    "    Arguments:\n",
    "    results -- list: A list of weight pairs [w1, w2] from the optimizer\n",
    "    \"\"\"\n",
    "    # Extract w1 and w2 values\n",
    "    w1_values = [res[0] for res in results]\n",
    "    w2_values = [res[1] for res in results]\n",
    "\n",
    "    # Plot the path of optimization with lines and scatter points for the circles\n",
    "    plt.figure(figsize=(8, 6))\n",
    "    \n",
    "    # Plot the line connecting the points\n",
    "    plt.plot(w1_values, w2_values, linestyle='-', color='b', label=\"Optimization path\")\n",
    "    \n",
    "    # Plot circles at each point \n",
    "    plt.scatter(w1_values, w2_values, color='r', marker='o', label=\"Weight points\")\n",
    "    \n",
    "    # Add labels and title\n",
    "    plt.xlabel('w1 (Weight 1)')\n",
    "    plt.ylabel('w2 (Weight 2)')\n",
    "    plt.title('ADAM')\n",
    "    plt.grid(True)\n",
    "    plt.legend()\n",
    "    \n",
    "    # Show the plot\n",
    "    plt.show()\n",
    "\n",
    "# Plot the optimization patha\n",
    "plot_optimization_path(results)"
   ]
  },
  {
   "cell_type": "code",
   "execution_count": null,
   "metadata": {},
   "outputs": [],
   "source": []
  }
 ],
 "metadata": {
  "colab": {
   "provenance": [],
   "toc_visible": true
  },
  "kernelspec": {
   "display_name": "Python 3 (ipykernel)",
   "language": "python",
   "name": "python3"
  },
  "language_info": {
   "codemirror_mode": {
    "name": "ipython",
    "version": 3
   },
   "file_extension": ".py",
   "mimetype": "text/x-python",
   "name": "python",
   "nbconvert_exporter": "python",
   "pygments_lexer": "ipython3",
   "version": "3.12.6"
  }
 },
 "nbformat": 4,
 "nbformat_minor": 4
}
